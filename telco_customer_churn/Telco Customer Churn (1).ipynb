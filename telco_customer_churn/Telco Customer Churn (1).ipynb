{
 "cells": [
  {
   "cell_type": "markdown",
   "id": "b2b490aa",
   "metadata": {},
   "source": [
    "# Telco Customer Churn EDA\n",
    "\n",
    "## Task Description ##\n",
    "\n",
    "In this analysis I will focus on exploring the telco customer churn dataset. \n",
    "The target variable is 'churn' which indicates if a customer has cancelled their contract. \n",
    "\n",
    "The goal of this analysis is to identify patterns and correlations with the target variable and finally list some potential action items for a potential management audience. \n",
    "\n",
    "## Documentation ## \n",
    "\n",
    "This dataset was downloaded from [Kaggle](https://www.kaggle.com/blastchar/telco-customer-churn/version/1?select=WA_Fn-UseC_-Telco-Customer-Churn.csv)\n",
    "\n",
    "The data dictionary can be found the [IBM Communit URL](https://community.ibm.com/community/user/businessanalytics/blogs/steven-macko/2019/07/11/telco-customer-churn-1113)\n"
   ]
  },
  {
   "cell_type": "code",
   "execution_count": 27,
   "id": "bc73d1a7",
   "metadata": {},
   "outputs": [],
   "source": [
    "import pandas as pd\n",
    "import numpy as np\n",
    "import seaborn as sns \n",
    "import matplotlib.pyplot as plt\n",
    "from sklearn.preprocessing import LabelEncoder"
   ]
  },
  {
   "cell_type": "code",
   "execution_count": 28,
   "id": "88c581ce",
   "metadata": {},
   "outputs": [],
   "source": [
    "df = pd.read_csv(r'D:\\Documents\\dataSets\\telco_customer_churn.csv')"
   ]
  },
  {
   "cell_type": "markdown",
   "id": "7b402baf",
   "metadata": {},
   "source": [
    "# Data Understanding\n",
    "\n",
    "In this section, we will focus on inspecting the data surface properties: \n",
    " \n",
    "- data format \n",
    "- number of records and features\n",
    "- missing values"
   ]
  },
  {
   "cell_type": "code",
   "execution_count": 29,
   "id": "46e92aea",
   "metadata": {},
   "outputs": [
    {
     "data": {
      "text/plain": [
       "(7043, 21)"
      ]
     },
     "execution_count": 29,
     "metadata": {},
     "output_type": "execute_result"
    }
   ],
   "source": [
    "df.shape"
   ]
  },
  {
   "cell_type": "code",
   "execution_count": 30,
   "id": "36d9c562",
   "metadata": {
    "scrolled": true
   },
   "outputs": [
    {
     "data": {
      "text/html": [
       "<div>\n",
       "<style scoped>\n",
       "    .dataframe tbody tr th:only-of-type {\n",
       "        vertical-align: middle;\n",
       "    }\n",
       "\n",
       "    .dataframe tbody tr th {\n",
       "        vertical-align: top;\n",
       "    }\n",
       "\n",
       "    .dataframe thead th {\n",
       "        text-align: right;\n",
       "    }\n",
       "</style>\n",
       "<table border=\"1\" class=\"dataframe\">\n",
       "  <thead>\n",
       "    <tr style=\"text-align: right;\">\n",
       "      <th></th>\n",
       "      <th>customerID</th>\n",
       "      <th>gender</th>\n",
       "      <th>SeniorCitizen</th>\n",
       "      <th>Partner</th>\n",
       "      <th>Dependents</th>\n",
       "      <th>tenure</th>\n",
       "      <th>PhoneService</th>\n",
       "      <th>MultipleLines</th>\n",
       "      <th>InternetService</th>\n",
       "      <th>OnlineSecurity</th>\n",
       "      <th>...</th>\n",
       "      <th>DeviceProtection</th>\n",
       "      <th>TechSupport</th>\n",
       "      <th>StreamingTV</th>\n",
       "      <th>StreamingMovies</th>\n",
       "      <th>Contract</th>\n",
       "      <th>PaperlessBilling</th>\n",
       "      <th>PaymentMethod</th>\n",
       "      <th>MonthlyCharges</th>\n",
       "      <th>TotalCharges</th>\n",
       "      <th>Churn</th>\n",
       "    </tr>\n",
       "  </thead>\n",
       "  <tbody>\n",
       "    <tr>\n",
       "      <th>0</th>\n",
       "      <td>7590-VHVEG</td>\n",
       "      <td>Female</td>\n",
       "      <td>0</td>\n",
       "      <td>Yes</td>\n",
       "      <td>No</td>\n",
       "      <td>1</td>\n",
       "      <td>No</td>\n",
       "      <td>No phone service</td>\n",
       "      <td>DSL</td>\n",
       "      <td>No</td>\n",
       "      <td>...</td>\n",
       "      <td>No</td>\n",
       "      <td>No</td>\n",
       "      <td>No</td>\n",
       "      <td>No</td>\n",
       "      <td>Month-to-month</td>\n",
       "      <td>Yes</td>\n",
       "      <td>Electronic check</td>\n",
       "      <td>29.85</td>\n",
       "      <td>29.85</td>\n",
       "      <td>No</td>\n",
       "    </tr>\n",
       "    <tr>\n",
       "      <th>1</th>\n",
       "      <td>5575-GNVDE</td>\n",
       "      <td>Male</td>\n",
       "      <td>0</td>\n",
       "      <td>No</td>\n",
       "      <td>No</td>\n",
       "      <td>34</td>\n",
       "      <td>Yes</td>\n",
       "      <td>No</td>\n",
       "      <td>DSL</td>\n",
       "      <td>Yes</td>\n",
       "      <td>...</td>\n",
       "      <td>Yes</td>\n",
       "      <td>No</td>\n",
       "      <td>No</td>\n",
       "      <td>No</td>\n",
       "      <td>One year</td>\n",
       "      <td>No</td>\n",
       "      <td>Mailed check</td>\n",
       "      <td>56.95</td>\n",
       "      <td>1889.5</td>\n",
       "      <td>No</td>\n",
       "    </tr>\n",
       "    <tr>\n",
       "      <th>2</th>\n",
       "      <td>3668-QPYBK</td>\n",
       "      <td>Male</td>\n",
       "      <td>0</td>\n",
       "      <td>No</td>\n",
       "      <td>No</td>\n",
       "      <td>2</td>\n",
       "      <td>Yes</td>\n",
       "      <td>No</td>\n",
       "      <td>DSL</td>\n",
       "      <td>Yes</td>\n",
       "      <td>...</td>\n",
       "      <td>No</td>\n",
       "      <td>No</td>\n",
       "      <td>No</td>\n",
       "      <td>No</td>\n",
       "      <td>Month-to-month</td>\n",
       "      <td>Yes</td>\n",
       "      <td>Mailed check</td>\n",
       "      <td>53.85</td>\n",
       "      <td>108.15</td>\n",
       "      <td>Yes</td>\n",
       "    </tr>\n",
       "    <tr>\n",
       "      <th>3</th>\n",
       "      <td>7795-CFOCW</td>\n",
       "      <td>Male</td>\n",
       "      <td>0</td>\n",
       "      <td>No</td>\n",
       "      <td>No</td>\n",
       "      <td>45</td>\n",
       "      <td>No</td>\n",
       "      <td>No phone service</td>\n",
       "      <td>DSL</td>\n",
       "      <td>Yes</td>\n",
       "      <td>...</td>\n",
       "      <td>Yes</td>\n",
       "      <td>Yes</td>\n",
       "      <td>No</td>\n",
       "      <td>No</td>\n",
       "      <td>One year</td>\n",
       "      <td>No</td>\n",
       "      <td>Bank transfer (automatic)</td>\n",
       "      <td>42.30</td>\n",
       "      <td>1840.75</td>\n",
       "      <td>No</td>\n",
       "    </tr>\n",
       "    <tr>\n",
       "      <th>4</th>\n",
       "      <td>9237-HQITU</td>\n",
       "      <td>Female</td>\n",
       "      <td>0</td>\n",
       "      <td>No</td>\n",
       "      <td>No</td>\n",
       "      <td>2</td>\n",
       "      <td>Yes</td>\n",
       "      <td>No</td>\n",
       "      <td>Fiber optic</td>\n",
       "      <td>No</td>\n",
       "      <td>...</td>\n",
       "      <td>No</td>\n",
       "      <td>No</td>\n",
       "      <td>No</td>\n",
       "      <td>No</td>\n",
       "      <td>Month-to-month</td>\n",
       "      <td>Yes</td>\n",
       "      <td>Electronic check</td>\n",
       "      <td>70.70</td>\n",
       "      <td>151.65</td>\n",
       "      <td>Yes</td>\n",
       "    </tr>\n",
       "  </tbody>\n",
       "</table>\n",
       "<p>5 rows × 21 columns</p>\n",
       "</div>"
      ],
      "text/plain": [
       "   customerID  gender  SeniorCitizen Partner Dependents  tenure PhoneService  \\\n",
       "0  7590-VHVEG  Female              0     Yes         No       1           No   \n",
       "1  5575-GNVDE    Male              0      No         No      34          Yes   \n",
       "2  3668-QPYBK    Male              0      No         No       2          Yes   \n",
       "3  7795-CFOCW    Male              0      No         No      45           No   \n",
       "4  9237-HQITU  Female              0      No         No       2          Yes   \n",
       "\n",
       "      MultipleLines InternetService OnlineSecurity  ... DeviceProtection  \\\n",
       "0  No phone service             DSL             No  ...               No   \n",
       "1                No             DSL            Yes  ...              Yes   \n",
       "2                No             DSL            Yes  ...               No   \n",
       "3  No phone service             DSL            Yes  ...              Yes   \n",
       "4                No     Fiber optic             No  ...               No   \n",
       "\n",
       "  TechSupport StreamingTV StreamingMovies        Contract PaperlessBilling  \\\n",
       "0          No          No              No  Month-to-month              Yes   \n",
       "1          No          No              No        One year               No   \n",
       "2          No          No              No  Month-to-month              Yes   \n",
       "3         Yes          No              No        One year               No   \n",
       "4          No          No              No  Month-to-month              Yes   \n",
       "\n",
       "               PaymentMethod MonthlyCharges  TotalCharges Churn  \n",
       "0           Electronic check          29.85         29.85    No  \n",
       "1               Mailed check          56.95        1889.5    No  \n",
       "2               Mailed check          53.85        108.15   Yes  \n",
       "3  Bank transfer (automatic)          42.30       1840.75    No  \n",
       "4           Electronic check          70.70        151.65   Yes  \n",
       "\n",
       "[5 rows x 21 columns]"
      ]
     },
     "execution_count": 30,
     "metadata": {},
     "output_type": "execute_result"
    }
   ],
   "source": [
    "df.head(5)"
   ]
  },
  {
   "cell_type": "code",
   "execution_count": 31,
   "id": "b4ed0e26",
   "metadata": {},
   "outputs": [
    {
     "name": "stdout",
     "output_type": "stream",
     "text": [
      "<class 'pandas.core.frame.DataFrame'>\n",
      "RangeIndex: 7043 entries, 0 to 7042\n",
      "Data columns (total 21 columns):\n",
      " #   Column            Non-Null Count  Dtype  \n",
      "---  ------            --------------  -----  \n",
      " 0   customerID        7043 non-null   object \n",
      " 1   gender            7043 non-null   object \n",
      " 2   SeniorCitizen     7043 non-null   int64  \n",
      " 3   Partner           7043 non-null   object \n",
      " 4   Dependents        7043 non-null   object \n",
      " 5   tenure            7043 non-null   int64  \n",
      " 6   PhoneService      7043 non-null   object \n",
      " 7   MultipleLines     7043 non-null   object \n",
      " 8   InternetService   7043 non-null   object \n",
      " 9   OnlineSecurity    7043 non-null   object \n",
      " 10  OnlineBackup      7043 non-null   object \n",
      " 11  DeviceProtection  7043 non-null   object \n",
      " 12  TechSupport       7043 non-null   object \n",
      " 13  StreamingTV       7043 non-null   object \n",
      " 14  StreamingMovies   7043 non-null   object \n",
      " 15  Contract          7043 non-null   object \n",
      " 16  PaperlessBilling  7043 non-null   object \n",
      " 17  PaymentMethod     7043 non-null   object \n",
      " 18  MonthlyCharges    7043 non-null   float64\n",
      " 19  TotalCharges      7043 non-null   object \n",
      " 20  Churn             7043 non-null   object \n",
      "dtypes: float64(1), int64(2), object(18)\n",
      "memory usage: 1.1+ MB\n"
     ]
    }
   ],
   "source": [
    "df.info()"
   ]
  },
  {
   "cell_type": "code",
   "execution_count": 32,
   "id": "e637f68a",
   "metadata": {},
   "outputs": [
    {
     "data": {
      "text/html": [
       "<div>\n",
       "<style scoped>\n",
       "    .dataframe tbody tr th:only-of-type {\n",
       "        vertical-align: middle;\n",
       "    }\n",
       "\n",
       "    .dataframe tbody tr th {\n",
       "        vertical-align: top;\n",
       "    }\n",
       "\n",
       "    .dataframe thead th {\n",
       "        text-align: right;\n",
       "    }\n",
       "</style>\n",
       "<table border=\"1\" class=\"dataframe\">\n",
       "  <thead>\n",
       "    <tr style=\"text-align: right;\">\n",
       "      <th></th>\n",
       "      <th>SeniorCitizen</th>\n",
       "      <th>tenure</th>\n",
       "      <th>MonthlyCharges</th>\n",
       "    </tr>\n",
       "  </thead>\n",
       "  <tbody>\n",
       "    <tr>\n",
       "      <th>count</th>\n",
       "      <td>7043.000000</td>\n",
       "      <td>7043.000000</td>\n",
       "      <td>7043.000000</td>\n",
       "    </tr>\n",
       "    <tr>\n",
       "      <th>mean</th>\n",
       "      <td>0.162147</td>\n",
       "      <td>32.371149</td>\n",
       "      <td>64.761692</td>\n",
       "    </tr>\n",
       "    <tr>\n",
       "      <th>std</th>\n",
       "      <td>0.368612</td>\n",
       "      <td>24.559481</td>\n",
       "      <td>30.090047</td>\n",
       "    </tr>\n",
       "    <tr>\n",
       "      <th>min</th>\n",
       "      <td>0.000000</td>\n",
       "      <td>0.000000</td>\n",
       "      <td>18.250000</td>\n",
       "    </tr>\n",
       "    <tr>\n",
       "      <th>25%</th>\n",
       "      <td>0.000000</td>\n",
       "      <td>9.000000</td>\n",
       "      <td>35.500000</td>\n",
       "    </tr>\n",
       "    <tr>\n",
       "      <th>50%</th>\n",
       "      <td>0.000000</td>\n",
       "      <td>29.000000</td>\n",
       "      <td>70.350000</td>\n",
       "    </tr>\n",
       "    <tr>\n",
       "      <th>75%</th>\n",
       "      <td>0.000000</td>\n",
       "      <td>55.000000</td>\n",
       "      <td>89.850000</td>\n",
       "    </tr>\n",
       "    <tr>\n",
       "      <th>max</th>\n",
       "      <td>1.000000</td>\n",
       "      <td>72.000000</td>\n",
       "      <td>118.750000</td>\n",
       "    </tr>\n",
       "  </tbody>\n",
       "</table>\n",
       "</div>"
      ],
      "text/plain": [
       "       SeniorCitizen       tenure  MonthlyCharges\n",
       "count    7043.000000  7043.000000     7043.000000\n",
       "mean        0.162147    32.371149       64.761692\n",
       "std         0.368612    24.559481       30.090047\n",
       "min         0.000000     0.000000       18.250000\n",
       "25%         0.000000     9.000000       35.500000\n",
       "50%         0.000000    29.000000       70.350000\n",
       "75%         0.000000    55.000000       89.850000\n",
       "max         1.000000    72.000000      118.750000"
      ]
     },
     "execution_count": 32,
     "metadata": {},
     "output_type": "execute_result"
    }
   ],
   "source": [
    "df.describe()"
   ]
  },
  {
   "cell_type": "code",
   "execution_count": 33,
   "id": "a57c1f19",
   "metadata": {},
   "outputs": [
    {
     "data": {
      "text/plain": [
       "customerID           object\n",
       "gender               object\n",
       "SeniorCitizen         int64\n",
       "Partner              object\n",
       "Dependents           object\n",
       "tenure                int64\n",
       "PhoneService         object\n",
       "MultipleLines        object\n",
       "InternetService      object\n",
       "OnlineSecurity       object\n",
       "OnlineBackup         object\n",
       "DeviceProtection     object\n",
       "TechSupport          object\n",
       "StreamingTV          object\n",
       "StreamingMovies      object\n",
       "Contract             object\n",
       "PaperlessBilling     object\n",
       "PaymentMethod        object\n",
       "MonthlyCharges      float64\n",
       "TotalCharges         object\n",
       "Churn                object\n",
       "dtype: object"
      ]
     },
     "execution_count": 33,
     "metadata": {},
     "output_type": "execute_result"
    }
   ],
   "source": [
    "df.dtypes"
   ]
  },
  {
   "cell_type": "code",
   "execution_count": 34,
   "id": "ebf0b8a9",
   "metadata": {},
   "outputs": [
    {
     "data": {
      "text/plain": [
       "customerID          False\n",
       "gender              False\n",
       "SeniorCitizen       False\n",
       "Partner             False\n",
       "Dependents          False\n",
       "tenure              False\n",
       "PhoneService        False\n",
       "MultipleLines       False\n",
       "InternetService     False\n",
       "OnlineSecurity      False\n",
       "OnlineBackup        False\n",
       "DeviceProtection    False\n",
       "TechSupport         False\n",
       "StreamingTV         False\n",
       "StreamingMovies     False\n",
       "Contract            False\n",
       "PaperlessBilling    False\n",
       "PaymentMethod       False\n",
       "MonthlyCharges      False\n",
       "TotalCharges        False\n",
       "Churn               False\n",
       "dtype: bool"
      ]
     },
     "execution_count": 34,
     "metadata": {},
     "output_type": "execute_result"
    }
   ],
   "source": [
    "df.isna().any()"
   ]
  },
  {
   "cell_type": "markdown",
   "id": "6626f7e9",
   "metadata": {},
   "source": [
    "Assuming that each row uniquely identify a contract related to a customer ID, I will drop the customerID column. "
   ]
  },
  {
   "cell_type": "code",
   "execution_count": 35,
   "id": "42b3641f",
   "metadata": {},
   "outputs": [],
   "source": [
    "df.drop('customerID', axis = 1, inplace = True)"
   ]
  },
  {
   "cell_type": "markdown",
   "id": "18cad192",
   "metadata": {},
   "source": [
    "**Observation**: 'TotalCharges' is stored as an object. I will convert it to numeric and pass coerce as error attribute."
   ]
  },
  {
   "cell_type": "code",
   "execution_count": 36,
   "id": "94350959",
   "metadata": {},
   "outputs": [
    {
     "data": {
      "text/plain": [
       "count    7043.000000\n",
       "mean     2279.734304\n",
       "std      2266.794470\n",
       "min         0.000000\n",
       "25%       398.550000\n",
       "50%      1394.550000\n",
       "75%      3786.600000\n",
       "max      8684.800000\n",
       "Name: TotalCharges, dtype: float64"
      ]
     },
     "execution_count": 36,
     "metadata": {},
     "output_type": "execute_result"
    }
   ],
   "source": [
    "df['TotalCharges'] = pd.to_numeric(df['TotalCharges'], errors = 'coerce')\n",
    "df['TotalCharges'] = df['TotalCharges'].fillna(0)\n",
    "df['TotalCharges'].describe()"
   ]
  },
  {
   "cell_type": "markdown",
   "id": "9244fb49",
   "metadata": {},
   "source": [
    "**Logic**:\n",
    "\n",
    "- I could assume that those values should be 0 as it could have originally been stored as NULL and finally replaced with empty string\n",
    "- To support this idea I could have a look at the 'Tenure'. If the tenure is 0 then we can assume that these are new customers and the monthly charges value should be 0"
   ]
  },
  {
   "cell_type": "code",
   "execution_count": 37,
   "id": "24e694a3",
   "metadata": {},
   "outputs": [
    {
     "data": {
      "text/plain": [
       "array([0], dtype=int64)"
      ]
     },
     "execution_count": 37,
     "metadata": {},
     "output_type": "execute_result"
    }
   ],
   "source": [
    "df['tenure'][df.TotalCharges== 0].unique()"
   ]
  },
  {
   "cell_type": "markdown",
   "id": "dd9d90f1",
   "metadata": {},
   "source": [
    "The hypothesis is confirmed. All observations where 'TotalCharges' equals ' ' have 0 tenure.\n",
    "But what about the 'Monthly Charges'?\n",
    "\n",
    "I'm going to investigate also 'MonthlyCharges' just to be sure to have clean data. However, I believe that the value of monthly charges is coming from order data which is stored when the customer signs in the contract. \n",
    "Hence, we shouldn't miss it. "
   ]
  },
  {
   "cell_type": "code",
   "execution_count": 38,
   "id": "4b8b4ead",
   "metadata": {},
   "outputs": [
    {
     "data": {
      "text/plain": [
       "488     52.55\n",
       "753     20.25\n",
       "936     80.85\n",
       "1082    25.75\n",
       "1340    56.05\n",
       "3331    19.85\n",
       "3826    25.35\n",
       "4380    20.00\n",
       "5218    19.70\n",
       "6670    73.35\n",
       "6754    61.90\n",
       "Name: MonthlyCharges, dtype: float64"
      ]
     },
     "execution_count": 38,
     "metadata": {},
     "output_type": "execute_result"
    }
   ],
   "source": [
    "df['MonthlyCharges'][df.TotalCharges== 0]"
   ]
  },
  {
   "cell_type": "markdown",
   "id": "bd00e3ba",
   "metadata": {},
   "source": [
    "Hypothesis confirmed.\n",
    "\n",
    "I will keep exploring the data quality."
   ]
  },
  {
   "cell_type": "code",
   "execution_count": 39,
   "id": "4075c7a0",
   "metadata": {
    "scrolled": true
   },
   "outputs": [
    {
     "data": {
      "text/plain": [
       "gender              0\n",
       "SeniorCitizen       0\n",
       "Partner             0\n",
       "Dependents          0\n",
       "tenure              0\n",
       "PhoneService        0\n",
       "MultipleLines       0\n",
       "InternetService     0\n",
       "OnlineSecurity      0\n",
       "OnlineBackup        0\n",
       "DeviceProtection    0\n",
       "TechSupport         0\n",
       "StreamingTV         0\n",
       "StreamingMovies     0\n",
       "Contract            0\n",
       "PaperlessBilling    0\n",
       "PaymentMethod       0\n",
       "MonthlyCharges      0\n",
       "TotalCharges        0\n",
       "Churn               0\n",
       "dtype: int64"
      ]
     },
     "execution_count": 39,
     "metadata": {},
     "output_type": "execute_result"
    }
   ],
   "source": [
    "df.isna().sum()"
   ]
  },
  {
   "cell_type": "markdown",
   "id": "0f28a432",
   "metadata": {},
   "source": [
    "No Missing Values"
   ]
  },
  {
   "cell_type": "markdown",
   "id": "004023a4",
   "metadata": {},
   "source": [
    "I want to get an idea of I should expect within each column for better understanding of telco stored data. \n",
    "I am going to iterate through all columns and return a list of the unique values stored in which one of them."
   ]
  },
  {
   "cell_type": "code",
   "execution_count": 40,
   "id": "1d29a7c1",
   "metadata": {
    "scrolled": true
   },
   "outputs": [
    {
     "name": "stdout",
     "output_type": "stream",
     "text": [
      "gender \n",
      " ['Female' 'Male']\n",
      "Partner \n",
      " ['Yes' 'No']\n",
      "Dependents \n",
      " ['No' 'Yes']\n",
      "PhoneService \n",
      " ['No' 'Yes']\n",
      "MultipleLines \n",
      " ['No phone service' 'No' 'Yes']\n",
      "InternetService \n",
      " ['DSL' 'Fiber optic' 'No']\n",
      "OnlineSecurity \n",
      " ['No' 'Yes' 'No internet service']\n",
      "OnlineBackup \n",
      " ['Yes' 'No' 'No internet service']\n",
      "DeviceProtection \n",
      " ['No' 'Yes' 'No internet service']\n",
      "TechSupport \n",
      " ['No' 'Yes' 'No internet service']\n",
      "StreamingTV \n",
      " ['No' 'Yes' 'No internet service']\n",
      "StreamingMovies \n",
      " ['No' 'Yes' 'No internet service']\n",
      "Contract \n",
      " ['Month-to-month' 'One year' 'Two year']\n",
      "PaperlessBilling \n",
      " ['Yes' 'No']\n",
      "PaymentMethod \n",
      " ['Electronic check' 'Mailed check' 'Bank transfer (automatic)'\n",
      " 'Credit card (automatic)']\n",
      "Churn \n",
      " ['No' 'Yes']\n"
     ]
    }
   ],
   "source": [
    "for c in df.columns: \n",
    "    if df[c].dtype == 'O':\n",
    "        print(c,\"\\n\",df[c].unique() )"
   ]
  },
  {
   "cell_type": "markdown",
   "id": "93cc0932",
   "metadata": {},
   "source": [
    "- Boolean values are mainly stored in Yes/No Format. \n",
    "- No major cleansing needed. I will only store Obj Data in lower cases. \n",
    "    This will make it easier when passing them as strings in future functions"
   ]
  },
  {
   "cell_type": "markdown",
   "id": "7f5283dd",
   "metadata": {},
   "source": [
    "I want to store all Obj Data in lower cases."
   ]
  },
  {
   "cell_type": "code",
   "execution_count": 41,
   "id": "40071914",
   "metadata": {},
   "outputs": [],
   "source": [
    "for c in df.columns: \n",
    "    if df[c].dtype == 'O':\n",
    "        df[c] = df[c].str.lower()"
   ]
  },
  {
   "cell_type": "markdown",
   "id": "a01fff00",
   "metadata": {},
   "source": [
    "Verify applied steps"
   ]
  },
  {
   "cell_type": "code",
   "execution_count": 42,
   "id": "3a39a8f4",
   "metadata": {},
   "outputs": [
    {
     "name": "stdout",
     "output_type": "stream",
     "text": [
      "gender \n",
      " ['female' 'male']\n",
      "Partner \n",
      " ['yes' 'no']\n",
      "Dependents \n",
      " ['no' 'yes']\n",
      "PhoneService \n",
      " ['no' 'yes']\n",
      "MultipleLines \n",
      " ['no phone service' 'no' 'yes']\n",
      "InternetService \n",
      " ['dsl' 'fiber optic' 'no']\n",
      "OnlineSecurity \n",
      " ['no' 'yes' 'no internet service']\n",
      "OnlineBackup \n",
      " ['yes' 'no' 'no internet service']\n",
      "DeviceProtection \n",
      " ['no' 'yes' 'no internet service']\n",
      "TechSupport \n",
      " ['no' 'yes' 'no internet service']\n",
      "StreamingTV \n",
      " ['no' 'yes' 'no internet service']\n",
      "StreamingMovies \n",
      " ['no' 'yes' 'no internet service']\n",
      "Contract \n",
      " ['month-to-month' 'one year' 'two year']\n",
      "PaperlessBilling \n",
      " ['yes' 'no']\n",
      "PaymentMethod \n",
      " ['electronic check' 'mailed check' 'bank transfer (automatic)'\n",
      " 'credit card (automatic)']\n",
      "Churn \n",
      " ['no' 'yes']\n"
     ]
    }
   ],
   "source": [
    "for c in df.columns: \n",
    "    if df[c].dtype == 'O':\n",
    "        print(c,\"\\n\",df[c].unique())"
   ]
  },
  {
   "cell_type": "markdown",
   "id": "1d24ff97",
   "metadata": {},
   "source": [
    "Noticed that 'SeniorCitizen' is stored as integer, will convert into yes/no for now to plot it as bars"
   ]
  },
  {
   "cell_type": "code",
   "execution_count": 43,
   "id": "6199dd7e",
   "metadata": {},
   "outputs": [
    {
     "data": {
      "text/plain": [
       "array([0, 1], dtype=int64)"
      ]
     },
     "execution_count": 43,
     "metadata": {},
     "output_type": "execute_result"
    }
   ],
   "source": [
    "df.SeniorCitizen.unique()"
   ]
  },
  {
   "cell_type": "code",
   "execution_count": 26,
   "id": "6d6fece3",
   "metadata": {},
   "outputs": [],
   "source": [
    "# le=LabelEncoder()\n",
    "\n",
    "# # For each binary column apply LabelEncoder()\n",
    "\n",
    "# for col in df.columns: \n",
    "#     if len(df[col].unique()) == 2: \n",
    "#         le.fit(df[col])\n",
    "#         df[col] = le.transform(df[col])"
   ]
  },
  {
   "cell_type": "code",
   "execution_count": 45,
   "id": "0eb3c847",
   "metadata": {},
   "outputs": [
    {
     "data": {
      "text/plain": [
       "array(['no', 'yes'], dtype=object)"
      ]
     },
     "execution_count": 45,
     "metadata": {},
     "output_type": "execute_result"
    }
   ],
   "source": [
    "df['SeniorCitizen'] = df['SeniorCitizen'].map(lambda x: 'yes' if x == 1  else 'no')\n",
    "df.SeniorCitizen.unique()"
   ]
  },
  {
   "cell_type": "code",
   "execution_count": null,
   "id": "91ca21b4",
   "metadata": {},
   "outputs": [],
   "source": [
    "df['churn_int'] = df.Churn.map({'yes':1, 'no':0})"
   ]
  },
  {
   "cell_type": "markdown",
   "id": "c5568eb5",
   "metadata": {},
   "source": [
    "## Observations on the Data ## \n",
    "\n",
    "The data set describes personas and membership details. \n",
    "\n",
    "We can try to identify trends and patterns related to the churn label based on two aspects. \n"
   ]
  },
  {
   "cell_type": "markdown",
   "id": "b074ac92",
   "metadata": {},
   "source": [
    "We are now confident to have a clean base to work on. The data understanding part is over and we will switch now to data exploration. \n"
   ]
  },
  {
   "cell_type": "markdown",
   "id": "21add5f9",
   "metadata": {},
   "source": [
    "## Plotting Categorical Data ##"
   ]
  },
  {
   "cell_type": "markdown",
   "id": "360be1d9",
   "metadata": {},
   "source": [
    "First of all let's have a look at the telco churn rate. "
   ]
  },
  {
   "cell_type": "code",
   "execution_count": null,
   "id": "848cba51",
   "metadata": {},
   "outputs": [],
   "source": [
    "churn_share = round(df.Churn.value_counts(normalize = True),2)\n",
    "churn_share"
   ]
  },
  {
   "cell_type": "markdown",
   "id": "8a4eaef7",
   "metadata": {},
   "source": [
    "27% of the customers have stopped their memebership with the phone provider.\n",
    "\n",
    "Let's have a look at the categorical data to identify which groups have a higer share of cancellations."
   ]
  },
  {
   "cell_type": "code",
   "execution_count": null,
   "id": "639f4b7d",
   "metadata": {},
   "outputs": [],
   "source": [
    "# Define Plot Style https://matplotlib.org/stable/gallery/style_sheets/style_sheets_reference.html\n",
    "# plt.style.use('fivethirtyeight')"
   ]
  },
  {
   "cell_type": "code",
   "execution_count": 81,
   "id": "355a7cb2",
   "metadata": {},
   "outputs": [
    {
     "data": {
      "text/plain": [
       "'Partner'"
      ]
     },
     "execution_count": 81,
     "metadata": {},
     "output_type": "execute_result"
    }
   ],
   "source": [
    "df.Partner.name"
   ]
  },
  {
   "cell_type": "code",
   "execution_count": 102,
   "id": "9bd6a0d4",
   "metadata": {
    "scrolled": true
   },
   "outputs": [
    {
     "data": {
      "text/html": [
       "<div>\n",
       "<style scoped>\n",
       "    .dataframe tbody tr th:only-of-type {\n",
       "        vertical-align: middle;\n",
       "    }\n",
       "\n",
       "    .dataframe tbody tr th {\n",
       "        vertical-align: top;\n",
       "    }\n",
       "\n",
       "    .dataframe thead th {\n",
       "        text-align: right;\n",
       "    }\n",
       "</style>\n",
       "<table border=\"1\" class=\"dataframe\">\n",
       "  <thead>\n",
       "    <tr style=\"text-align: right;\">\n",
       "      <th>Churn</th>\n",
       "      <th>no</th>\n",
       "      <th>yes</th>\n",
       "    </tr>\n",
       "    <tr>\n",
       "      <th>Churn</th>\n",
       "      <th></th>\n",
       "      <th></th>\n",
       "    </tr>\n",
       "  </thead>\n",
       "  <tbody>\n",
       "    <tr>\n",
       "      <th>no</th>\n",
       "      <td>5174.0</td>\n",
       "      <td>NaN</td>\n",
       "    </tr>\n",
       "    <tr>\n",
       "      <th>yes</th>\n",
       "      <td>NaN</td>\n",
       "      <td>1869.0</td>\n",
       "    </tr>\n",
       "  </tbody>\n",
       "</table>\n",
       "</div>"
      ],
      "text/plain": [
       "Churn      no     yes\n",
       "Churn                \n",
       "no     5174.0     NaN\n",
       "yes       NaN  1869.0"
      ]
     },
     "execution_count": 102,
     "metadata": {},
     "output_type": "execute_result"
    },
    {
     "data": {
      "image/png": "[encoded data removed]",
      "text/plain": [
       "<Figure size 864x504 with 1 Axes>"
      ]
     },
     "metadata": {
      "needs_background": "light"
     },
     "output_type": "display_data"
    }
   ],
   "source": [
    "partner = df.groupby(['Partner','Churn']).size().unstack()\n",
    "\n",
    "colors= ['#ec838a','#9b9c9a'] \n",
    "tab = (partner.T * 100/partner.T.sum())\n",
    "ax = tab.T.plot(kind = 'bar', stacked = True, \n",
    "                figsize = (12,7), color = colors)\n",
    "\n",
    "plt.title(f'Proportion of {test.columns.name} within Churn')\n",
    "plt.ylabel('Percentage')\n",
    "plt.legend(loc = 'upper right', fontsize = 'medium')\n",
    "\n",
    "\n",
    "def stacked_bars(df, target): \n",
    "    \"\"\"Pass a dataframe and plot all categorical dimension as a stacked bar chart\"\"\"\n",
    "    for i in range(df.shape[1]):\n",
    "        for col in df.columns: \n",
    "            if df[col].dtype == 'O' and col != 'customerID': \n",
    "                col_name = col\n",
    "                dim = df.groupby([col,df[target]]).size().unstack()\n",
    "        return dim\n",
    "\n",
    "stacked_bars(df,'Churn')\n"
   ]
  },
  {
   "cell_type": "code",
   "execution_count": 220,
   "id": "fb573cf4",
   "metadata": {
    "scrolled": false
   },
   "outputs": [
    {
     "data": {
      "image/png": "[encoded data removed]",
      "text/plain": [
       "<Figure size 576x432 with 1 Axes>"
      ]
     },
     "metadata": {
      "needs_background": "light"
     },
     "output_type": "display_data"
    },
    {
     "data": {
      "image/png": "[encoded data removed]",
      "text/plain": [
       "<Figure size 576x432 with 1 Axes>"
      ]
     },
     "metadata": {
      "needs_background": "light"
     },
     "output_type": "display_data"
    },
    {
     "data": {
      "image/png": "[encoded data removed]",
      "text/plain": [
       "<Figure size 576x432 with 1 Axes>"
      ]
     },
     "metadata": {
      "needs_background": "light"
     },
     "output_type": "display_data"
    },
    {
     "data": {
      "image/png": "[encoded data removed]",
      "text/plain": [
       "<Figure size 576x432 with 1 Axes>"
      ]
     },
     "metadata": {
      "needs_background": "light"
     },
     "output_type": "display_data"
    },
    {
     "data": {
      "image/png": "[encoded data removed]",
      "text/plain": [
       "<Figure size 576x432 with 1 Axes>"
      ]
     },
     "metadata": {
      "needs_background": "light"
     },
     "output_type": "display_data"
    },
    {
     "data": {
      "image/png": "[encoded data removed]",
      "text/plain": [
       "<Figure size 576x432 with 1 Axes>"
      ]
     },
     "metadata": {
      "needs_background": "light"
     },
     "output_type": "display_data"
    },
    {
     "data": {
      "image/png": "[encoded data removed]",
      "text/plain": [
       "<Figure size 576x432 with 1 Axes>"
      ]
     },
     "metadata": {
      "needs_background": "light"
     },
     "output_type": "display_data"
    },
    {
     "data": {
      "image/png": "[encoded data removed]",
      "text/plain": [
       "<Figure size 576x432 with 1 Axes>"
      ]
     },
     "metadata": {
      "needs_background": "light"
     },
     "output_type": "display_data"
    },
    {
     "data": {
      "image/png": "[encoded data removed]",
      "text/plain": [
       "<Figure size 576x432 with 1 Axes>"
      ]
     },
     "metadata": {
      "needs_background": "light"
     },
     "output_type": "display_data"
    },
    {
     "data": {
      "image/png": "[encoded data removed]",
      "text/plain": [
       "<Figure size 576x432 with 1 Axes>"
      ]
     },
     "metadata": {
      "needs_background": "light"
     },
     "output_type": "display_data"
    },
    {
     "data": {
      "image/png": "[encoded data removed]",
      "text/plain": [
       "<Figure size 576x432 with 1 Axes>"
      ]
     },
     "metadata": {
      "needs_background": "light"
     },
     "output_type": "display_data"
    },
    {
     "data": {
      "image/png": "[encoded data removed]",
      "text/plain": [
       "<Figure size 576x432 with 1 Axes>"
      ]
     },
     "metadata": {
      "needs_background": "light"
     },
     "output_type": "display_data"
    },
    {
     "data": {
      "image/png": "[encoded data removed]",
      "text/plain": [
       "<Figure size 576x432 with 1 Axes>"
      ]
     },
     "metadata": {
      "needs_background": "light"
     },
     "output_type": "display_data"
    },
    {
     "data": {
      "image/png": "[encoded data removed]",
      "text/plain": [
       "<Figure size 576x432 with 1 Axes>"
      ]
     },
     "metadata": {
      "needs_background": "light"
     },
     "output_type": "display_data"
    },
    {
     "data": {
      "image/png": "[encoded data removed]",
      "text/plain": [
       "<Figure size 576x432 with 1 Axes>"
      ]
     },
     "metadata": {
      "needs_background": "light"
     },
     "output_type": "display_data"
    },
    {
     "data": {
      "image/png": "[encoded data removed]",
      "text/plain": [
       "<Figure size 576x432 with 1 Axes>"
      ]
     },
     "metadata": {
      "needs_background": "light"
     },
     "output_type": "display_data"
    }
   ],
   "source": [
    "def stacked_bars(df,target):\n",
    "    for c,n in enumerate(df.columns): \n",
    "        if df[n].dtype == 'O' and n != 'customerID' and n!='Churn':\n",
    "            dim = df.groupby([n,'Churn']).size().unstack()\n",
    "            ax = round((dim.T*100/dim.T.sum()).T,0)\n",
    "            plots= ax.plot(kind='bar', stacked = True, rot = 45,figsize = (8,6))\n",
    "            plt.title(n)\n",
    "            plt.xlabel(None)\n",
    "            plt.legend(loc = 'upper right')\n",
    "            for bar in plots.patches: \n",
    "                plots.annotate(format(bar.get_height(), '.2f'),\n",
    "                               (bar.get_x() + bar.get_width() / 2,\n",
    "                                bar.get_height()), ha='center', va='center',\n",
    "                               size=10, xytext=(0,8),\n",
    "                               textcoords='offset points')\n",
    "            \n",
    "stacked_bars(df,'Churn')"
   ]
  },
  {
   "cell_type": "markdown",
   "id": "98c7c9e4",
   "metadata": {},
   "source": [
    "## Session ends ##"
   ]
  },
  {
   "cell_type": "code",
   "execution_count": null,
   "id": "47445e41",
   "metadata": {},
   "outputs": [],
   "source": [
    "sns.kdeplot(data = df,x = 'MonthlyCharges',hue = 'Churn',cumulative = True, common_norm= False)"
   ]
  },
  {
   "cell_type": "code",
   "execution_count": null,
   "id": "0ec6bd59",
   "metadata": {},
   "outputs": [],
   "source": [
    "# Share of Churns within Partner group\n",
    "partner = pd.crosstab(df['Partner'], \n",
    "            df['Churn'], \n",
    "            normalize = 'columns',\n",
    "            margins = True)\n",
    "partner"
   ]
  },
  {
   "cell_type": "code",
   "execution_count": null,
   "id": "5d7b748d",
   "metadata": {},
   "outputs": [],
   "source": [
    "# Share of Churns within dependents group\n",
    "dependents = pd.crosstab(df['Dependents'], \n",
    "            df['Churn'], \n",
    "            normalize = 'columns',\n",
    "            margins = True)\n",
    "dependents"
   ]
  },
  {
   "cell_type": "code",
   "execution_count": null,
   "id": "0ce36d02",
   "metadata": {},
   "outputs": [],
   "source": [
    "# Share of Churns within senior citizen group\n",
    "senior_cit = pd.crosstab(df['SeniorCitizen'], \n",
    "            df['Churn'], \n",
    "            normalize ='columns',\n",
    "            margins = True)\n",
    "senior_cit"
   ]
  },
  {
   "cell_type": "markdown",
   "id": "e35bdbe6",
   "metadata": {},
   "source": [
    "## Personas Findings ##\n",
    "\n",
    "- *SeniorCitizen* is not specific enough to draw conclusions (yes = over 65 years old)\n",
    "- *Dependents* and *Partner* are conceptually correlated (if you don't have a partner then you don't have dependents, exceptions occur of course)\n",
    "\n",
    "Hence, we know about churners that: \n",
    "- 64% of them do not have a partner \n",
    "- 83% of them do not have dependents \n",
    "\n",
    "We might think these are young individuals but we can't prove the assumptio as we don't have data about the age. "
   ]
  },
  {
   "cell_type": "code",
   "execution_count": null,
   "id": "889d5e5d",
   "metadata": {},
   "outputs": [],
   "source": [
    "# Share of internet service in relation to online security\n",
    "pd.crosstab(df['InternetService'], \n",
    "            df['OnlineSecurity'],\n",
    "            normalize = 'columns')"
   ]
  },
  {
   "cell_type": "markdown",
   "id": "7a6d10df",
   "metadata": {},
   "source": [
    "## Product Findings ## \n",
    "\n",
    "- Fiber optic is a main churning driver \n",
    "- Not owning addons such as tech support, streaming tv etc. leads to more churns. These addons might be related to customers owning fiber optic as a plan.\n"
   ]
  },
  {
   "cell_type": "markdown",
   "id": "932fa04d",
   "metadata": {},
   "source": [
    "## Tenure Analysis ## "
   ]
  },
  {
   "cell_type": "markdown",
   "id": "152910a8",
   "metadata": {},
   "source": [
    "# Analysing Numerical Data #"
   ]
  },
  {
   "cell_type": "markdown",
   "id": "90f99a98",
   "metadata": {},
   "source": [
    "One of the first questions I'm asking myself is related to contract tenure: \n",
    "\n",
    "- After how long do customer tend to churn? \n",
    "- Can we observe different tenure lenghts between churners and non-churners?"
   ]
  },
  {
   "cell_type": "code",
   "execution_count": null,
   "id": "7d989264",
   "metadata": {},
   "outputs": [],
   "source": [
    "sns.boxplot(x = 'Churn', y ='tenure',data = df)\n",
    "plt.title('Distribution of Tenures among Churn Type')"
   ]
  },
  {
   "cell_type": "code",
   "execution_count": null,
   "id": "9d936997",
   "metadata": {},
   "outputs": [],
   "source": [
    "fig, ax1 = plt.subplots(1,figsize = (10,10))\n",
    "sns.kdeplot(data = df, x='tenure', hue= 'Churn', fill = True, ax = ax1)\n",
    "ax1.set_title(\"Density distribution of Tenure by Churn\")"
   ]
  },
  {
   "cell_type": "code",
   "execution_count": null,
   "id": "5e31789a",
   "metadata": {
    "scrolled": false
   },
   "outputs": [],
   "source": [
    "fig, ax1= plt.subplots(1,figsize = (10,8))\n",
    "sns.kdeplot(data=df, x=\"tenure\", hue=\"Churn\", cumulative = True, common_norm = False, ax = ax1)\n",
    "plt.title(\"ECDF of Tenure by Churn Type\")"
   ]
  },
  {
   "cell_type": "code",
   "execution_count": null,
   "id": "67b03c9e",
   "metadata": {},
   "outputs": [],
   "source": [
    "fig, ax = plt.subplots(2,1,figsize = (10,10))\n",
    "sns.histplot(data = df[df.Churn == 'yes'] , x = 'tenure', hue = 'Churn',ax = ax[0])\n",
    "ax[0].set_title('Churners Tenure')\n",
    "ax[0].set_xlabel('Tenure (Months)')\n",
    "sns.histplot(data = df[df.Churn == 'no'] , x = 'tenure', hue = 'Churn',ax = ax[1])\n",
    "ax[1].set_title('Non Churners Tenure')\n",
    "ax[1].set_xlabel('Tenure (Months)')"
   ]
  },
  {
   "cell_type": "markdown",
   "id": "d630450e",
   "metadata": {},
   "source": [
    "There  is a clear pattern occurring in the first ~ 12 months contract. This is the critical part where customers tend to churn the most. Once the contrac approaches ~ 2 years the likelihood of churning decreases. \n",
    "\n",
    "**Almost 50% of the churners have a contract len to 10 months**. If we understand what happens in this range **we might reduce the churner by 50%**. \n",
    "\n",
    "- Why are contracts been cancelled within the first year? \n",
    "- Are they month-to-month contracts? If yes what is the monthly charge for them? What kind of product do they have? \n"
   ]
  },
  {
   "cell_type": "code",
   "execution_count": null,
   "id": "d6c379d7",
   "metadata": {},
   "outputs": [],
   "source": [
    "# Tenure Distribution\n",
    "fig, ax = plt.subplots(2,1, figsize =(10,10))\n",
    "sns.kdeplot(data= df[df.Churn == 'yes'], x = 'tenure', hue = 'InternetService',fill = True,ax = ax[0])\n",
    "ax[0].set_title('Tenure Distribution - CANCELLATIONS')\n",
    "sns.kdeplot(data= df[df.Churn == 'no'], x = 'tenure', hue = 'InternetService',fill = True,ax = ax[1])\n",
    "ax[1].set_title('Tenure Distribution - RETAINED')"
   ]
  },
  {
   "cell_type": "code",
   "execution_count": null,
   "id": "46e8f2a2",
   "metadata": {},
   "outputs": [],
   "source": [
    "sns.boxplot(data = df, x = 'Churn', y = 'MonthlyCharges')"
   ]
  },
  {
   "cell_type": "markdown",
   "id": "135be193",
   "metadata": {},
   "source": [
    "## Monthly Charges Distribution ##\n",
    "- The distribution of monthly charges for churners is clearly skewed towards higher values. \n",
    "- This means that churners might have decided to leave due to costs. "
   ]
  },
  {
   "cell_type": "code",
   "execution_count": null,
   "id": "bc4b8cad",
   "metadata": {},
   "outputs": [],
   "source": [
    "# Expensive Products \n",
    "sns.boxplot(data = df, x = 'Contract', y = 'MonthlyCharges', hue = 'Churn')"
   ]
  },
  {
   "cell_type": "markdown",
   "id": "e98249cc",
   "metadata": {},
   "source": [
    "## Whooops! ## \n",
    "\n",
    "Because fiber optic was one of the main churn driver and high montly charges are related to most of the churns, I though to see a pattern in the distribution of the 2 dimensions. But on the contrary, churners have lower monthly charges within each product. \n",
    "\n",
    "Why???"
   ]
  },
  {
   "cell_type": "code",
   "execution_count": null,
   "id": "fa5d492f",
   "metadata": {},
   "outputs": [],
   "source": [
    "def converter(df_col): \n",
    "    if df_col == 'yes': \n",
    "        return 1 \n",
    "    else: \n",
    "        return 0"
   ]
  },
  {
   "cell_type": "code",
   "execution_count": null,
   "id": "bbbaff73",
   "metadata": {},
   "outputs": [],
   "source": [
    "bool_conv = ['Partner','Dependents']\n",
    "for c in bool_conv: \n",
    "    df[c] = df[c].map(converter)"
   ]
  },
  {
   "cell_type": "code",
   "execution_count": null,
   "id": "a340fac0",
   "metadata": {},
   "outputs": [],
   "source": [
    "df.corr()"
   ]
  },
  {
   "cell_type": "code",
   "execution_count": null,
   "id": "51e19a45",
   "metadata": {},
   "outputs": [],
   "source": [
    "# Append features with more than 2 unique values into a list and pass it as argument into pd.get_dummies\n",
    "features = ['InternetService','StreamingTV','Contract']"
   ]
  },
  {
   "cell_type": "code",
   "execution_count": null,
   "id": "492d1379",
   "metadata": {},
   "outputs": [],
   "source": []
  },
  {
   "cell_type": "code",
   "execution_count": null,
   "id": "2eb11d7b",
   "metadata": {},
   "outputs": [],
   "source": [
    "sns.jointplot(data = df[df['Churn']=='yes'], x ='MonthlyCharges', y = 'tenure', kind = 'hex', color = '#b30000')\n",
    "sns.jointplot(data = df[df['Churn']=='no'], x ='MonthlyCharges', y = 'tenure', kind = 'hex' , color ='#0a290a')"
   ]
  },
  {
   "cell_type": "markdown",
   "id": "668a7163",
   "metadata": {},
   "source": [
    "## .. To be continued ##"
   ]
  },
  {
   "cell_type": "markdown",
   "id": "cdfc067c",
   "metadata": {},
   "source": [
    "## Here starts the testing environment ##"
   ]
  },
  {
   "cell_type": "code",
   "execution_count": null,
   "id": "32f1b88f",
   "metadata": {},
   "outputs": [],
   "source": [
    "sns.displot(df, x='MonthlyCharges', hue= 'Churn', kind = 'kde', fill = True)\n",
    "plt.title(\"Density distribution of Monthly Charges\")"
   ]
  },
  {
   "cell_type": "code",
   "execution_count": null,
   "id": "3918f13b",
   "metadata": {},
   "outputs": [],
   "source": [
    "sns.boxplot(df['InternetService'],df['MonthlyCharges'])\n",
    "plt.title(\"Distribution of Monthly Charges within Internet Service Groups\")"
   ]
  },
  {
   "cell_type": "code",
   "execution_count": null,
   "id": "c18642a5",
   "metadata": {},
   "outputs": [],
   "source": [
    "sns.boxplot(df['Churn'], df['tenure'])"
   ]
  },
  {
   "cell_type": "code",
   "execution_count": null,
   "id": "27d6aaf3",
   "metadata": {},
   "outputs": [],
   "source": [
    "df[['Churn', 'tenure']].groupby('Churn').agg(['mean', 'median'])"
   ]
  },
  {
   "cell_type": "markdown",
   "id": "0f73b776",
   "metadata": {},
   "source": [
    "The average tenure length for churners is around 17 months with a median of 10. \n",
    "\n",
    "This means that the main problem to tackle is within the first year contract."
   ]
  },
  {
   "cell_type": "code",
   "execution_count": null,
   "id": "1db92690",
   "metadata": {},
   "outputs": [],
   "source": [
    "one_y_tenure = df[df['tenure']<=10]"
   ]
  },
  {
   "cell_type": "code",
   "execution_count": null,
   "id": "37cbbd3e",
   "metadata": {
    "scrolled": false
   },
   "outputs": [],
   "source": [
    "for c, n in enumerate([c for c in one_y_tenure.columns if one_y_tenure[c].dtype == 'O']): \n",
    "    plt.figure(c)\n",
    "    _ = sns.countplot(data = one_y_tenure, x = n, hue = 'Churn')\n",
    "    plt.xticks(rotation =75)"
   ]
  },
  {
   "cell_type": "code",
   "execution_count": null,
   "id": "196fad3f",
   "metadata": {},
   "outputs": [],
   "source": [
    "df.hist(figsize = (14,18), bins = 10)"
   ]
  },
  {
   "cell_type": "code",
   "execution_count": null,
   "id": "1a51f828",
   "metadata": {
    "scrolled": false
   },
   "outputs": [],
   "source": [
    "sns.pairplot(df[['Churn','tenure', 'MonthlyCharges','TotalCharges']], hue = 'Churn', size = 3.5)"
   ]
  },
  {
   "cell_type": "markdown",
   "id": "01c4fda1",
   "metadata": {},
   "source": [
    "I will define a converter function to change obj into boolean numerical. "
   ]
  },
  {
   "cell_type": "code",
   "execution_count": null,
   "id": "f29c3050",
   "metadata": {},
   "outputs": [],
   "source": [
    "to_convert = ['Churn']\n",
    "for c in to_convert: \n",
    "    if c in df.columns: \n",
    "        df[c] = df[c].apply(converter)"
   ]
  },
  {
   "cell_type": "code",
   "execution_count": null,
   "id": "d69cd636",
   "metadata": {},
   "outputs": [],
   "source": [
    "def converter(col): \n",
    "    if col == 'yes': \n",
    "        return 1 \n",
    "    else: \n",
    "        return 0"
   ]
  },
  {
   "cell_type": "code",
   "execution_count": null,
   "id": "f6970e52",
   "metadata": {},
   "outputs": [],
   "source": [
    "df = df.drop('customerID',axis = 1)"
   ]
  },
  {
   "cell_type": "code",
   "execution_count": null,
   "id": "2018b7ca",
   "metadata": {},
   "outputs": [],
   "source": [
    "def percentage_of_totals(col1,data = df,target = 'Churn'): \n",
    "    ct = pd.crosstab(data[target], \n",
    "                     data[col1], \n",
    "                     normalize = 'index')\n",
    "    sns.heatmap(ct, annot = True)\n",
    "    plt.show()"
   ]
  },
  {
   "cell_type": "code",
   "execution_count": null,
   "id": "97ea2e63",
   "metadata": {},
   "outputs": [],
   "source": [
    "sns.countplot(data = df , x = 'InternetService' , hue = 'OnlineSecurity')"
   ]
  },
  {
   "cell_type": "code",
   "execution_count": null,
   "id": "fa601fdc",
   "metadata": {},
   "outputs": [],
   "source": [
    "percentage_of_totals('OnlineSecurity')"
   ]
  },
  {
   "cell_type": "code",
   "execution_count": null,
   "id": "d4d96b61",
   "metadata": {},
   "outputs": [],
   "source": [
    "df_dummies"
   ]
  },
  {
   "cell_type": "code",
   "execution_count": null,
   "id": "796aecd7",
   "metadata": {},
   "outputs": [],
   "source": [
    "df_corr = df_dummies.corr()\n"
   ]
  },
  {
   "cell_type": "code",
   "execution_count": null,
   "id": "54e7be59",
   "metadata": {},
   "outputs": [],
   "source": [
    "sns.displot(df['tenure'])\n"
   ]
  },
  {
   "cell_type": "code",
   "execution_count": null,
   "id": "4c6d364c",
   "metadata": {},
   "outputs": [],
   "source": [
    "\n",
    "plt.hist(df['tenure'])"
   ]
  },
  {
   "cell_type": "code",
   "execution_count": null,
   "id": "942f6bd4",
   "metadata": {},
   "outputs": [],
   "source": []
  }
 ],
 "metadata": {
  "kernelspec": {
   "display_name": "Python 3 (ipykernel)",
   "language": "python",
   "name": "python3"
  },
  "language_info": {
   "codemirror_mode": {
    "name": "ipython",
    "version": 3
   },
   "file_extension": ".py",
   "mimetype": "text/x-python",
   "name": "python",
   "nbconvert_exporter": "python",
   "pygments_lexer": "ipython3",
   "version": "3.9.7"
  }
 },
 "nbformat": 4,
 "nbformat_minor": 5
}
